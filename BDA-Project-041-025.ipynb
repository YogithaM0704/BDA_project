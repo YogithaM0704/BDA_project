{
  "nbformat": 4,
  "nbformat_minor": 0,
  "metadata": {
    "colab": {
      "name": "Untitled8.ipynb",
      "provenance": []
    },
    "kernelspec": {
      "name": "python3",
      "display_name": "Python 3"
    },
    "language_info": {
      "name": "python"
    }
  },
  "cells": [
    {
      "cell_type": "code",
      "execution_count": null,
      "metadata": {
        "colab": {
          "base_uri": "https://localhost:8080/"
        },
        "id": "d6Cv2Z2Y3ve0",
        "outputId": "e2321a89-85bb-43c7-fa6c-ef947888cad8"
      },
      "outputs": [
        {
          "output_type": "stream",
          "name": "stdout",
          "text": [
            "Looking in indexes: https://pypi.org/simple, https://us-python.pkg.dev/colab-wheels/public/simple/\n",
            "Collecting pyspark\n",
            "  Downloading pyspark-3.3.0.tar.gz (281.3 MB)\n",
            "\u001b[K     |████████████████████████████████| 281.3 MB 45 kB/s \n",
            "\u001b[?25hCollecting py4j==0.10.9.5\n",
            "  Downloading py4j-0.10.9.5-py2.py3-none-any.whl (199 kB)\n",
            "\u001b[K     |████████████████████████████████| 199 kB 47.5 MB/s \n",
            "\u001b[?25hBuilding wheels for collected packages: pyspark\n",
            "  Building wheel for pyspark (setup.py) ... \u001b[?25l\u001b[?25hdone\n",
            "  Created wheel for pyspark: filename=pyspark-3.3.0-py2.py3-none-any.whl size=281764026 sha256=72ffa46e106f335dda2933c33a270f7d00140acb2314b91489449a4e036ec9b9\n",
            "  Stored in directory: /root/.cache/pip/wheels/7a/8e/1b/f73a52650d2e5f337708d9f6a1750d451a7349a867f928b885\n",
            "Successfully built pyspark\n",
            "Installing collected packages: py4j, pyspark\n",
            "Successfully installed py4j-0.10.9.5 pyspark-3.3.0\n"
          ]
        }
      ],
      "source": [
        "pip install pyspark"
      ]
    },
    {
      "cell_type": "code",
      "source": [
        "from pyspark import SparkContext"
      ],
      "metadata": {
        "id": "8DI2lTxg3xX6"
      },
      "execution_count": null,
      "outputs": []
    },
    {
      "cell_type": "code",
      "source": [
        "sc = SparkContext(master=\"local[2]\")"
      ],
      "metadata": {
        "id": "YjdWEgjK4Kx3"
      },
      "execution_count": null,
      "outputs": []
    },
    {
      "cell_type": "code",
      "source": [
        "import pyspark"
      ],
      "metadata": {
        "id": "QAgunkKD4PKC"
      },
      "execution_count": null,
      "outputs": []
    },
    {
      "cell_type": "code",
      "source": [
        "from pyspark.sql import SparkSession"
      ],
      "metadata": {
        "id": "tzwoeE0l4VSS"
      },
      "execution_count": null,
      "outputs": []
    },
    {
      "cell_type": "code",
      "source": [
        "spark = SparkSession.builder.appName(\"MLwithSpark\").getOrCreate()"
      ],
      "metadata": {
        "id": "KLDstFXp4bNO"
      },
      "execution_count": null,
      "outputs": []
    },
    {
      "cell_type": "code",
      "source": [
        "df = spark.read.csv(\"train.csv\",header=True)"
      ],
      "metadata": {
        "id": "bsrHNmBm4e-f"
      },
      "execution_count": null,
      "outputs": []
    },
    {
      "cell_type": "code",
      "source": [
        "df.head(5)"
      ],
      "metadata": {
        "colab": {
          "base_uri": "https://localhost:8080/"
        },
        "id": "HL1eQg7k5Kx9",
        "outputId": "6ec0f95a-97e0-4145-d0a3-629937ab3806"
      },
      "execution_count": null,
      "outputs": [
        {
          "output_type": "execute_result",
          "data": {
            "text/plain": [
              "[Row(Dates='2015-05-13 23:53:00', Category='WARRANTS', Descript='WARRANT ARREST', DayOfWeek='Wednesday', PdDistrict='NORTHERN', Resolution='ARREST, BOOKED', Address='OAK ST / LAGUNA ST', X='-122.425891675136', Y='37.7745985956747'),\n",
              " Row(Dates='2015-05-13 23:53:00', Category='OTHER OFFENSES', Descript='TRAFFIC VIOLATION ARREST', DayOfWeek='Wednesday', PdDistrict='NORTHERN', Resolution='ARREST, BOOKED', Address='OAK ST / LAGUNA ST', X='-122.425891675136', Y='37.7745985956747'),\n",
              " Row(Dates='2015-05-13 23:33:00', Category='OTHER OFFENSES', Descript='TRAFFIC VIOLATION ARREST', DayOfWeek='Wednesday', PdDistrict='NORTHERN', Resolution='ARREST, BOOKED', Address='VANNESS AV / GREENWICH ST', X='-122.42436302145', Y='37.8004143219856'),\n",
              " Row(Dates='2015-05-13 23:30:00', Category='LARCENY/THEFT', Descript='GRAND THEFT FROM LOCKED AUTO', DayOfWeek='Wednesday', PdDistrict='NORTHERN', Resolution='NONE', Address='1500 Block of LOMBARD ST', X='-122.42699532676599', Y='37.80087263276921'),\n",
              " Row(Dates='2015-05-13 23:30:00', Category='LARCENY/THEFT', Descript='GRAND THEFT FROM LOCKED AUTO', DayOfWeek='Wednesday', PdDistrict='PARK', Resolution='NONE', Address='100 Block of BRODERICK ST', X='-122.438737622757', Y='37.771541172057795')]"
            ]
          },
          "metadata": {},
          "execution_count": 21
        }
      ]
    },
    {
      "cell_type": "code",
      "source": [
        "feature = ['Dates','Descript','DayOfWeek','PdDistrict','Resolution','Address','X','Y']\n",
        "label = ['Category']"
      ],
      "metadata": {
        "id": "k8sHnhF49SvR"
      },
      "execution_count": null,
      "outputs": []
    },
    {
      "cell_type": "code",
      "source": [
        "df.columns"
      ],
      "metadata": {
        "colab": {
          "base_uri": "https://localhost:8080/"
        },
        "id": "AGxUEgUrAYnF",
        "outputId": "1f516304-5b02-417b-b0dc-1cc8cee45767"
      },
      "execution_count": null,
      "outputs": [
        {
          "output_type": "execute_result",
          "data": {
            "text/plain": [
              "['Dates',\n",
              " 'Category',\n",
              " 'Descript',\n",
              " 'DayOfWeek',\n",
              " 'PdDistrict',\n",
              " 'Resolution',\n",
              " 'Address',\n",
              " 'X',\n",
              " 'Y']"
            ]
          },
          "metadata": {},
          "execution_count": 24
        }
      ]
    },
    {
      "cell_type": "code",
      "source": [
        "df.dtypes"
      ],
      "metadata": {
        "colab": {
          "base_uri": "https://localhost:8080/"
        },
        "id": "n2vQtNouAjBn",
        "outputId": "9f98c999-52c6-46f1-a415-6df824a49469"
      },
      "execution_count": null,
      "outputs": [
        {
          "output_type": "execute_result",
          "data": {
            "text/plain": [
              "[('Dates', 'string'),\n",
              " ('Category', 'string'),\n",
              " ('Descript', 'string'),\n",
              " ('DayOfWeek', 'string'),\n",
              " ('PdDistrict', 'string'),\n",
              " ('Resolution', 'string'),\n",
              " ('Address', 'string'),\n",
              " ('X', 'string'),\n",
              " ('Y', 'string')]"
            ]
          },
          "metadata": {},
          "execution_count": 25
        }
      ]
    },
    {
      "cell_type": "code",
      "source": [
        "df.describe().show()"
      ],
      "metadata": {
        "colab": {
          "base_uri": "https://localhost:8080/"
        },
        "id": "bZROMvnqAuaD",
        "outputId": "9450b2a0-99a0-4f48-bf24-be21f3c6c2db"
      },
      "execution_count": null,
      "outputs": [
        {
          "output_type": "stream",
          "name": "stdout",
          "text": [
            "+-------+-------------------+-----------+--------------------+---------+----------+--------------+-------------------+--------------------+--------------------+\n",
            "|summary|              Dates|   Category|            Descript|DayOfWeek|PdDistrict|    Resolution|            Address|                   X|                   Y|\n",
            "+-------+-------------------+-----------+--------------------+---------+----------+--------------+-------------------+--------------------+--------------------+\n",
            "|  count|                999|        999|                 999|      999|       999|           999|                999|                 999|                 999|\n",
            "|   mean|               null|       null|                null|     null|      null|          null|               null| -122.42520323840967|   37.76605027033724|\n",
            "| stddev|               null|       null|                null|     null|      null|          null|               null|0.027010487860775395|0.024332926859561784|\n",
            "|    min|2015-05-11 11:00:00|      ARSON|AGGRAVATED ASSAUL...|   Monday|   BAYVIEW|ARREST, BOOKED| 0 Block of 28TH ST|   -122.371274317441|   37.70844495807921|\n",
            "|    max|2015-05-13 23:53:00|WEAPON LAWS|      WARRANT ARREST|Wednesday|TENDERLOIN|     UNFOUNDED|ZOE ST / BRANNAN ST|   -122.513642064265|  37.808625059546706|\n",
            "+-------+-------------------+-----------+--------------------+---------+----------+--------------+-------------------+--------------------+--------------------+\n",
            "\n"
          ]
        }
      ]
    },
    {
      "cell_type": "code",
      "source": [
        "#df1 = df.select('Dates','DayOfWeek','PdDistrict','Resolution','X','Y','Category')"
      ],
      "metadata": {
        "id": "7AIvtJb5CoLt"
      },
      "execution_count": null,
      "outputs": []
    },
    {
      "cell_type": "code",
      "source": [
        "df.select('Category').distinct().count()"
      ],
      "metadata": {
        "colab": {
          "base_uri": "https://localhost:8080/"
        },
        "id": "gWw7ROJLSBJK",
        "outputId": "63386f6d-263a-4608-9316-753f606d21fd"
      },
      "execution_count": 96,
      "outputs": [
        {
          "output_type": "execute_result",
          "data": {
            "text/plain": [
              "27"
            ]
          },
          "metadata": {},
          "execution_count": 96
        }
      ]
    },
    {
      "cell_type": "code",
      "source": [
        "df.select('Category').distinct().show()"
      ],
      "metadata": {
        "colab": {
          "base_uri": "https://localhost:8080/"
        },
        "id": "dpWcqvm-CN7u",
        "outputId": "554a222d-bbf4-49d5-9d95-289e4d67d5e0"
      },
      "execution_count": null,
      "outputs": [
        {
          "output_type": "stream",
          "name": "stdout",
          "text": [
            "+--------------------+\n",
            "|            Category|\n",
            "+--------------------+\n",
            "|               FRAUD|\n",
            "|SEX OFFENSES FORC...|\n",
            "|     SECONDARY CODES|\n",
            "|     FAMILY OFFENSES|\n",
            "|      MISSING PERSON|\n",
            "|      OTHER OFFENSES|\n",
            "|DRIVING UNDER THE...|\n",
            "|            WARRANTS|\n",
            "|               ARSON|\n",
            "|FORGERY/COUNTERFE...|\n",
            "|             ASSAULT|\n",
            "|         DRUNKENNESS|\n",
            "|         WEAPON LAWS|\n",
            "|      SUSPICIOUS OCC|\n",
            "|             ROBBERY|\n",
            "|        PROSTITUTION|\n",
            "|  DISORDERLY CONDUCT|\n",
            "|             RUNAWAY|\n",
            "|           VANDALISM|\n",
            "|       DRUG/NARCOTIC|\n",
            "+--------------------+\n",
            "only showing top 20 rows\n",
            "\n"
          ]
        }
      ]
    },
    {
      "cell_type": "code",
      "source": [
        "df.select('PdDistrict').distinct().show()"
      ],
      "metadata": {
        "colab": {
          "base_uri": "https://localhost:8080/"
        },
        "id": "SSPgZkcyDW9n",
        "outputId": "d063c274-5a51-46e9-c713-91cddcf412a2"
      },
      "execution_count": null,
      "outputs": [
        {
          "output_type": "stream",
          "name": "stdout",
          "text": [
            "+----------+\n",
            "|PdDistrict|\n",
            "+----------+\n",
            "|   MISSION|\n",
            "|   BAYVIEW|\n",
            "|   CENTRAL|\n",
            "|   TARAVAL|\n",
            "|TENDERLOIN|\n",
            "| INGLESIDE|\n",
            "|      PARK|\n",
            "|  SOUTHERN|\n",
            "|  RICHMOND|\n",
            "|  NORTHERN|\n",
            "+----------+\n",
            "\n"
          ]
        }
      ]
    },
    {
      "cell_type": "code",
      "source": [
        "df.select('Resolution').distinct().show()"
      ],
      "metadata": {
        "colab": {
          "base_uri": "https://localhost:8080/"
        },
        "id": "76j3b9CLD7Z5",
        "outputId": "38aec0d5-5b0e-43e9-d548-756995af0c96"
      },
      "execution_count": null,
      "outputs": [
        {
          "output_type": "stream",
          "name": "stdout",
          "text": [
            "+--------------------+\n",
            "|          Resolution|\n",
            "+--------------------+\n",
            "|     JUVENILE BOOKED|\n",
            "|EXCEPTIONAL CLEAR...|\n",
            "|      ARREST, BOOKED|\n",
            "|             LOCATED|\n",
            "|           UNFOUNDED|\n",
            "|   PSYCHOPATHIC CASE|\n",
            "|       ARREST, CITED|\n",
            "|                NONE|\n",
            "+--------------------+\n",
            "\n"
          ]
        }
      ]
    },
    {
      "cell_type": "code",
      "source": [
        "df1 = df.select('DayOfWeek','PdDistrict','Resolution','X','Y','Category')"
      ],
      "metadata": {
        "id": "oX5uI5jBEC2y"
      },
      "execution_count": null,
      "outputs": []
    },
    {
      "cell_type": "code",
      "source": [
        "df1.show(5)"
      ],
      "metadata": {
        "colab": {
          "base_uri": "https://localhost:8080/"
        },
        "id": "Z3vdAwQ5E6Uz",
        "outputId": "56932cf4-ee2f-4536-9fce-c7425d96704a"
      },
      "execution_count": null,
      "outputs": [
        {
          "output_type": "stream",
          "name": "stdout",
          "text": [
            "+---------+----------+--------------+-------------------+------------------+--------------+\n",
            "|DayOfWeek|PdDistrict|    Resolution|                  X|                 Y|      Category|\n",
            "+---------+----------+--------------+-------------------+------------------+--------------+\n",
            "|Wednesday|  NORTHERN|ARREST, BOOKED|  -122.425891675136|  37.7745985956747|      WARRANTS|\n",
            "|Wednesday|  NORTHERN|ARREST, BOOKED|  -122.425891675136|  37.7745985956747|OTHER OFFENSES|\n",
            "|Wednesday|  NORTHERN|ARREST, BOOKED|   -122.42436302145|  37.8004143219856|OTHER OFFENSES|\n",
            "|Wednesday|  NORTHERN|          NONE|-122.42699532676599| 37.80087263276921| LARCENY/THEFT|\n",
            "|Wednesday|      PARK|          NONE|  -122.438737622757|37.771541172057795| LARCENY/THEFT|\n",
            "+---------+----------+--------------+-------------------+------------------+--------------+\n",
            "only showing top 5 rows\n",
            "\n"
          ]
        }
      ]
    },
    {
      "cell_type": "code",
      "source": [
        "feat = df1.head"
      ],
      "metadata": {
        "id": "3-H2yg1AE94y"
      },
      "execution_count": null,
      "outputs": []
    },
    {
      "cell_type": "code",
      "source": [
        "feature = ['DayOfWeek','PdDistrict','Resolution','X','Y']\n",
        "label = ['Category']"
      ],
      "metadata": {
        "id": "K4tCOs_GFU2E"
      },
      "execution_count": null,
      "outputs": []
    },
    {
      "cell_type": "code",
      "source": [
        "from pyspark.ml.feature import VectorAssembler\n",
        "from sklearn.metrics import confusion_matrix"
      ],
      "metadata": {
        "id": "M-tRfgmmGoHA"
      },
      "execution_count": null,
      "outputs": []
    },
    {
      "cell_type": "code",
      "source": [
        "va = VectorAssembler(inputCols = feature, outputCol='Features')"
      ],
      "metadata": {
        "id": "H0AwvxCgFWlR"
      },
      "execution_count": null,
      "outputs": []
    },
    {
      "cell_type": "code",
      "source": [
        "from pyspark.ml.feature import StringIndexer"
      ],
      "metadata": {
        "id": "raSnOH-BNw2T"
      },
      "execution_count": 70,
      "outputs": []
    },
    {
      "cell_type": "code",
      "source": [
        "df1 = StringIndexer(\n",
        "    inputCol='X', \n",
        "    outputCol='X1', \n",
        "    handleInvalid='keep').fit(df1).transform(df1)\n",
        "df1 = StringIndexer(\n",
        "    inputCol='Y', \n",
        "    outputCol='Y1', \n",
        "    handleInvalid='keep').fit(df1).transform(df1)\n",
        "df1 = StringIndexer(\n",
        "    inputCol='PdDistrict', \n",
        "    outputCol='PdDistrict1', \n",
        "    handleInvalid='keep').fit(df1).transform(df1)\n",
        "df1 = StringIndexer(\n",
        "    inputCol='Resolution', \n",
        "    outputCol='Resolution1', \n",
        "    handleInvalid='keep').fit(df1).transform(df1)\n",
        "df1 = StringIndexer(\n",
        "    inputCol='DayOfWeek', \n",
        "    outputCol='DayOfWeek1', \n",
        "    handleInvalid='keep').fit(df1).transform(df1) "
      ],
      "metadata": {
        "id": "ieG0t2ykNigC"
      },
      "execution_count": 72,
      "outputs": []
    },
    {
      "cell_type": "code",
      "source": [
        "df1 = StringIndexer(\n",
        "    inputCol='Category', \n",
        "    outputCol='Category1', \n",
        "    handleInvalid='keep').fit(df1).transform(df1) "
      ],
      "metadata": {
        "id": "RIBZmwcsPPXa"
      },
      "execution_count": 75,
      "outputs": []
    },
    {
      "cell_type": "code",
      "source": [
        "df1.show(5)"
      ],
      "metadata": {
        "colab": {
          "base_uri": "https://localhost:8080/"
        },
        "id": "uv5Z8TP7Orey",
        "outputId": "3dfe5394-3e39-4365-8eba-bb1c9dbca6b6"
      },
      "execution_count": 76,
      "outputs": [
        {
          "output_type": "stream",
          "name": "stdout",
          "text": [
            "+---------+----------+--------------+-------------------+------------------+--------------+-----+-----+-----------+-----------+----------+---------+\n",
            "|DayOfWeek|PdDistrict|    Resolution|                  X|                 Y|      Category|   X1|   Y1|PdDistrict1|Resolution1|DayOfWeek1|Category1|\n",
            "+---------+----------+--------------+-------------------+------------------+--------------+-----+-----+-----------+-----------+----------+---------+\n",
            "|Wednesday|  NORTHERN|ARREST, BOOKED|  -122.425891675136|  37.7745985956747|      WARRANTS|139.0|119.0|        4.0|        1.0|       0.0|      7.0|\n",
            "|Wednesday|  NORTHERN|ARREST, BOOKED|  -122.425891675136|  37.7745985956747|OTHER OFFENSES|139.0|119.0|        4.0|        1.0|       0.0|      1.0|\n",
            "|Wednesday|  NORTHERN|ARREST, BOOKED|   -122.42436302145|  37.8004143219856|OTHER OFFENSES|487.0|677.0|        4.0|        1.0|       0.0|      1.0|\n",
            "|Wednesday|  NORTHERN|          NONE|-122.42699532676599| 37.80087263276921| LARCENY/THEFT|499.0|679.0|        4.0|        0.0|       0.0|      0.0|\n",
            "|Wednesday|      PARK|          NONE|  -122.438737622757|37.771541172057795| LARCENY/THEFT|558.0|444.0|        8.0|        0.0|       0.0|      0.0|\n",
            "+---------+----------+--------------+-------------------+------------------+--------------+-----+-----+-----------+-----------+----------+---------+\n",
            "only showing top 5 rows\n",
            "\n"
          ]
        }
      ]
    },
    {
      "cell_type": "code",
      "source": [
        "df2 = df1.select('DayOfWeek1','PdDistrict1','Resolution1','X1','Y1','Category1')"
      ],
      "metadata": {
        "id": "jxSl8yi2OwM2"
      },
      "execution_count": 77,
      "outputs": []
    },
    {
      "cell_type": "code",
      "source": [
        "feature = ['DayOfWeek1','PdDistrict1','Resolution1','X1','Y1']\n",
        "label = ['Category1']"
      ],
      "metadata": {
        "id": "5eiDtx-YPrps"
      },
      "execution_count": 79,
      "outputs": []
    },
    {
      "cell_type": "code",
      "source": [
        "va = VectorAssembler(inputCols = feature, outputCol='Features')"
      ],
      "metadata": {
        "id": "loKHL6Q_Pi-k"
      },
      "execution_count": 80,
      "outputs": []
    },
    {
      "cell_type": "code",
      "source": [
        "#va_df = va.transform(df2)\n",
        "#va_df = va_df.select([feature, 'Category'])\n",
        "#va_df.show(3)"
      ],
      "metadata": {
        "id": "4NOns8wJGcgC"
      },
      "execution_count": 84,
      "outputs": []
    },
    {
      "cell_type": "code",
      "source": [
        "from pyspark.ml.classification import DecisionTreeClassifier"
      ],
      "metadata": {
        "id": "4c1vLqg6IstU"
      },
      "execution_count": null,
      "outputs": []
    },
    {
      "cell_type": "code",
      "source": [
        "dtc = DecisionTreeClassifier(featuresCol= 'DayOfWeek1, PdDistrict1, Resolution1, X1, Y1',labelCol=\"Category1\")\n",
        "#dtc = DecisionTreeClassifier(labelCol=\"Category\")"
      ],
      "metadata": {
        "id": "IwM3T3x5HF7E"
      },
      "execution_count": 92,
      "outputs": []
    },
    {
      "cell_type": "code",
      "source": [
        "(train, test) = df2.randomSplit([0.8, 0.2])"
      ],
      "metadata": {
        "id": "R4DAKxjCImRW"
      },
      "execution_count": 88,
      "outputs": []
    },
    {
      "cell_type": "code",
      "source": [
        "#dtc = dtc.fit(train)"
      ],
      "metadata": {
        "colab": {
          "base_uri": "https://localhost:8080/",
          "height": 321
        },
        "id": "ueoBAUFkI44j",
        "outputId": "7c9766a3-a842-4449-a729-4bd0ee5588bb"
      },
      "execution_count": 93,
      "outputs": [
        {
          "output_type": "error",
          "ename": "IllegalArgumentException",
          "evalue": "ignored",
          "traceback": [
            "\u001b[0;31m---------------------------------------------------------------------------\u001b[0m",
            "\u001b[0;31mIllegalArgumentException\u001b[0m                  Traceback (most recent call last)",
            "\u001b[0;32m<ipython-input-93-250213f8aa11>\u001b[0m in \u001b[0;36m<module>\u001b[0;34m\u001b[0m\n\u001b[0;32m----> 1\u001b[0;31m \u001b[0mdtc\u001b[0m \u001b[0;34m=\u001b[0m \u001b[0mdtc\u001b[0m\u001b[0;34m.\u001b[0m\u001b[0mfit\u001b[0m\u001b[0;34m(\u001b[0m\u001b[0mtrain\u001b[0m\u001b[0;34m)\u001b[0m\u001b[0;34m\u001b[0m\u001b[0;34m\u001b[0m\u001b[0m\n\u001b[0m",
            "\u001b[0;32m/usr/local/lib/python3.7/dist-packages/pyspark/ml/base.py\u001b[0m in \u001b[0;36mfit\u001b[0;34m(self, dataset, params)\u001b[0m\n\u001b[1;32m    203\u001b[0m                 \u001b[0;32mreturn\u001b[0m \u001b[0mself\u001b[0m\u001b[0;34m.\u001b[0m\u001b[0mcopy\u001b[0m\u001b[0;34m(\u001b[0m\u001b[0mparams\u001b[0m\u001b[0;34m)\u001b[0m\u001b[0;34m.\u001b[0m\u001b[0m_fit\u001b[0m\u001b[0;34m(\u001b[0m\u001b[0mdataset\u001b[0m\u001b[0;34m)\u001b[0m\u001b[0;34m\u001b[0m\u001b[0;34m\u001b[0m\u001b[0m\n\u001b[1;32m    204\u001b[0m             \u001b[0;32melse\u001b[0m\u001b[0;34m:\u001b[0m\u001b[0;34m\u001b[0m\u001b[0;34m\u001b[0m\u001b[0m\n\u001b[0;32m--> 205\u001b[0;31m                 \u001b[0;32mreturn\u001b[0m \u001b[0mself\u001b[0m\u001b[0;34m.\u001b[0m\u001b[0m_fit\u001b[0m\u001b[0;34m(\u001b[0m\u001b[0mdataset\u001b[0m\u001b[0;34m)\u001b[0m\u001b[0;34m\u001b[0m\u001b[0;34m\u001b[0m\u001b[0m\n\u001b[0m\u001b[1;32m    206\u001b[0m         \u001b[0;32melse\u001b[0m\u001b[0;34m:\u001b[0m\u001b[0;34m\u001b[0m\u001b[0;34m\u001b[0m\u001b[0m\n\u001b[1;32m    207\u001b[0m             raise TypeError(\n",
            "\u001b[0;32m/usr/local/lib/python3.7/dist-packages/pyspark/ml/wrapper.py\u001b[0m in \u001b[0;36m_fit\u001b[0;34m(self, dataset)\u001b[0m\n\u001b[1;32m    377\u001b[0m \u001b[0;34m\u001b[0m\u001b[0m\n\u001b[1;32m    378\u001b[0m     \u001b[0;32mdef\u001b[0m \u001b[0m_fit\u001b[0m\u001b[0;34m(\u001b[0m\u001b[0mself\u001b[0m\u001b[0;34m,\u001b[0m \u001b[0mdataset\u001b[0m\u001b[0;34m:\u001b[0m \u001b[0mDataFrame\u001b[0m\u001b[0;34m)\u001b[0m \u001b[0;34m->\u001b[0m \u001b[0mJM\u001b[0m\u001b[0;34m:\u001b[0m\u001b[0;34m\u001b[0m\u001b[0;34m\u001b[0m\u001b[0m\n\u001b[0;32m--> 379\u001b[0;31m         \u001b[0mjava_model\u001b[0m \u001b[0;34m=\u001b[0m \u001b[0mself\u001b[0m\u001b[0;34m.\u001b[0m\u001b[0m_fit_java\u001b[0m\u001b[0;34m(\u001b[0m\u001b[0mdataset\u001b[0m\u001b[0;34m)\u001b[0m\u001b[0;34m\u001b[0m\u001b[0;34m\u001b[0m\u001b[0m\n\u001b[0m\u001b[1;32m    380\u001b[0m         \u001b[0mmodel\u001b[0m \u001b[0;34m=\u001b[0m \u001b[0mself\u001b[0m\u001b[0;34m.\u001b[0m\u001b[0m_create_model\u001b[0m\u001b[0;34m(\u001b[0m\u001b[0mjava_model\u001b[0m\u001b[0;34m)\u001b[0m\u001b[0;34m\u001b[0m\u001b[0;34m\u001b[0m\u001b[0m\n\u001b[1;32m    381\u001b[0m         \u001b[0;32mreturn\u001b[0m \u001b[0mself\u001b[0m\u001b[0;34m.\u001b[0m\u001b[0m_copyValues\u001b[0m\u001b[0;34m(\u001b[0m\u001b[0mmodel\u001b[0m\u001b[0;34m)\u001b[0m\u001b[0;34m\u001b[0m\u001b[0;34m\u001b[0m\u001b[0m\n",
            "\u001b[0;32m/usr/local/lib/python3.7/dist-packages/pyspark/ml/wrapper.py\u001b[0m in \u001b[0;36m_fit_java\u001b[0;34m(self, dataset)\u001b[0m\n\u001b[1;32m    374\u001b[0m \u001b[0;34m\u001b[0m\u001b[0m\n\u001b[1;32m    375\u001b[0m         \u001b[0mself\u001b[0m\u001b[0;34m.\u001b[0m\u001b[0m_transfer_params_to_java\u001b[0m\u001b[0;34m(\u001b[0m\u001b[0;34m)\u001b[0m\u001b[0;34m\u001b[0m\u001b[0;34m\u001b[0m\u001b[0m\n\u001b[0;32m--> 376\u001b[0;31m         \u001b[0;32mreturn\u001b[0m \u001b[0mself\u001b[0m\u001b[0;34m.\u001b[0m\u001b[0m_java_obj\u001b[0m\u001b[0;34m.\u001b[0m\u001b[0mfit\u001b[0m\u001b[0;34m(\u001b[0m\u001b[0mdataset\u001b[0m\u001b[0;34m.\u001b[0m\u001b[0m_jdf\u001b[0m\u001b[0;34m)\u001b[0m\u001b[0;34m\u001b[0m\u001b[0;34m\u001b[0m\u001b[0m\n\u001b[0m\u001b[1;32m    377\u001b[0m \u001b[0;34m\u001b[0m\u001b[0m\n\u001b[1;32m    378\u001b[0m     \u001b[0;32mdef\u001b[0m \u001b[0m_fit\u001b[0m\u001b[0;34m(\u001b[0m\u001b[0mself\u001b[0m\u001b[0;34m,\u001b[0m \u001b[0mdataset\u001b[0m\u001b[0;34m:\u001b[0m \u001b[0mDataFrame\u001b[0m\u001b[0;34m)\u001b[0m \u001b[0;34m->\u001b[0m \u001b[0mJM\u001b[0m\u001b[0;34m:\u001b[0m\u001b[0;34m\u001b[0m\u001b[0;34m\u001b[0m\u001b[0m\n",
            "\u001b[0;32m/usr/local/lib/python3.7/dist-packages/py4j/java_gateway.py\u001b[0m in \u001b[0;36m__call__\u001b[0;34m(self, *args)\u001b[0m\n\u001b[1;32m   1320\u001b[0m         \u001b[0manswer\u001b[0m \u001b[0;34m=\u001b[0m \u001b[0mself\u001b[0m\u001b[0;34m.\u001b[0m\u001b[0mgateway_client\u001b[0m\u001b[0;34m.\u001b[0m\u001b[0msend_command\u001b[0m\u001b[0;34m(\u001b[0m\u001b[0mcommand\u001b[0m\u001b[0;34m)\u001b[0m\u001b[0;34m\u001b[0m\u001b[0;34m\u001b[0m\u001b[0m\n\u001b[1;32m   1321\u001b[0m         return_value = get_return_value(\n\u001b[0;32m-> 1322\u001b[0;31m             answer, self.gateway_client, self.target_id, self.name)\n\u001b[0m\u001b[1;32m   1323\u001b[0m \u001b[0;34m\u001b[0m\u001b[0m\n\u001b[1;32m   1324\u001b[0m         \u001b[0;32mfor\u001b[0m \u001b[0mtemp_arg\u001b[0m \u001b[0;32min\u001b[0m \u001b[0mtemp_args\u001b[0m\u001b[0;34m:\u001b[0m\u001b[0;34m\u001b[0m\u001b[0;34m\u001b[0m\u001b[0m\n",
            "\u001b[0;32m/usr/local/lib/python3.7/dist-packages/pyspark/sql/utils.py\u001b[0m in \u001b[0;36mdeco\u001b[0;34m(*a, **kw)\u001b[0m\n\u001b[1;32m    194\u001b[0m                 \u001b[0;31m# Hide where the exception came from that shows a non-Pythonic\u001b[0m\u001b[0;34m\u001b[0m\u001b[0;34m\u001b[0m\u001b[0;34m\u001b[0m\u001b[0m\n\u001b[1;32m    195\u001b[0m                 \u001b[0;31m# JVM exception message.\u001b[0m\u001b[0;34m\u001b[0m\u001b[0;34m\u001b[0m\u001b[0;34m\u001b[0m\u001b[0m\n\u001b[0;32m--> 196\u001b[0;31m                 \u001b[0;32mraise\u001b[0m \u001b[0mconverted\u001b[0m \u001b[0;32mfrom\u001b[0m \u001b[0;32mNone\u001b[0m\u001b[0;34m\u001b[0m\u001b[0;34m\u001b[0m\u001b[0m\n\u001b[0m\u001b[1;32m    197\u001b[0m             \u001b[0;32melse\u001b[0m\u001b[0;34m:\u001b[0m\u001b[0;34m\u001b[0m\u001b[0;34m\u001b[0m\u001b[0m\n\u001b[1;32m    198\u001b[0m                 \u001b[0;32mraise\u001b[0m\u001b[0;34m\u001b[0m\u001b[0;34m\u001b[0m\u001b[0m\n",
            "\u001b[0;31mIllegalArgumentException\u001b[0m: DayOfWeek1, PdDistrict1, Resolution1, X1, Y1 does not exist. Available: DayOfWeek1, PdDistrict1, Resolution1, X1, Y1, Category1"
          ]
        }
      ]
    },
    {
      "cell_type": "code",
      "source": [
        "from pyspark.mllib.tree import DecisionTree, DecisionTreeModel"
      ],
      "metadata": {
        "id": "3GOISjX5RuKr"
      },
      "execution_count": 94,
      "outputs": []
    },
    {
      "cell_type": "code",
      "source": [
        "rdd = df2.rdd"
      ],
      "metadata": {
        "id": "1yBDHGq1SWT2"
      },
      "execution_count": 99,
      "outputs": []
    },
    {
      "cell_type": "code",
      "source": [
        "model = DecisionTree.trainClassifier(rdd, numClasses=27,categoricalFeaturesInfo={},impurity='gini', maxDepth=5, maxBins=32)"
      ],
      "metadata": {
        "id": "vu1g6ckwI8zf",
        "colab": {
          "base_uri": "https://localhost:8080/",
          "height": 339
        },
        "outputId": "b680212e-63fd-4dd8-b3fc-0e643a40e900"
      },
      "execution_count": 104,
      "outputs": [
        {
          "output_type": "error",
          "ename": "AssertionError",
          "evalue": "ignored",
          "traceback": [
            "\u001b[0;31m---------------------------------------------------------------------------\u001b[0m",
            "\u001b[0;31mAssertionError\u001b[0m                            Traceback (most recent call last)",
            "\u001b[0;32m<ipython-input-104-4bd50cfc2901>\u001b[0m in \u001b[0;36m<module>\u001b[0;34m\u001b[0m\n\u001b[0;32m----> 1\u001b[0;31m \u001b[0mmodel\u001b[0m \u001b[0;34m=\u001b[0m \u001b[0mDecisionTree\u001b[0m\u001b[0;34m.\u001b[0m\u001b[0mtrainClassifier\u001b[0m\u001b[0;34m(\u001b[0m\u001b[0mrdd\u001b[0m\u001b[0;34m,\u001b[0m \u001b[0mnumClasses\u001b[0m\u001b[0;34m=\u001b[0m\u001b[0;36m27\u001b[0m\u001b[0;34m,\u001b[0m\u001b[0mcategoricalFeaturesInfo\u001b[0m\u001b[0;34m=\u001b[0m\u001b[0;34m{\u001b[0m\u001b[0;34m}\u001b[0m\u001b[0;34m,\u001b[0m\u001b[0mimpurity\u001b[0m\u001b[0;34m=\u001b[0m\u001b[0;34m'gini'\u001b[0m\u001b[0;34m,\u001b[0m \u001b[0mmaxDepth\u001b[0m\u001b[0;34m=\u001b[0m\u001b[0;36m5\u001b[0m\u001b[0;34m,\u001b[0m \u001b[0mmaxBins\u001b[0m\u001b[0;34m=\u001b[0m\u001b[0;36m32\u001b[0m\u001b[0;34m)\u001b[0m\u001b[0;34m\u001b[0m\u001b[0;34m\u001b[0m\u001b[0m\n\u001b[0m",
            "\u001b[0;32m/usr/local/lib/python3.7/dist-packages/pyspark/mllib/tree.py\u001b[0m in \u001b[0;36mtrainClassifier\u001b[0;34m(cls, data, numClasses, categoricalFeaturesInfo, impurity, maxDepth, maxBins, minInstancesPerNode, minInfoGain)\u001b[0m\n\u001b[1;32m    292\u001b[0m             \u001b[0mmaxBins\u001b[0m\u001b[0;34m,\u001b[0m\u001b[0;34m\u001b[0m\u001b[0;34m\u001b[0m\u001b[0m\n\u001b[1;32m    293\u001b[0m             \u001b[0mminInstancesPerNode\u001b[0m\u001b[0;34m,\u001b[0m\u001b[0;34m\u001b[0m\u001b[0;34m\u001b[0m\u001b[0m\n\u001b[0;32m--> 294\u001b[0;31m             \u001b[0mminInfoGain\u001b[0m\u001b[0;34m,\u001b[0m\u001b[0;34m\u001b[0m\u001b[0;34m\u001b[0m\u001b[0m\n\u001b[0m\u001b[1;32m    295\u001b[0m         )\n\u001b[1;32m    296\u001b[0m \u001b[0;34m\u001b[0m\u001b[0m\n",
            "\u001b[0;32m/usr/local/lib/python3.7/dist-packages/pyspark/mllib/tree.py\u001b[0m in \u001b[0;36m_train\u001b[0;34m(cls, data, type, numClasses, features, impurity, maxDepth, maxBins, minInstancesPerNode, minInfoGain)\u001b[0m\n\u001b[1;32m    186\u001b[0m     ) -> DecisionTreeModel:\n\u001b[1;32m    187\u001b[0m         \u001b[0mfirst\u001b[0m \u001b[0;34m=\u001b[0m \u001b[0mdata\u001b[0m\u001b[0;34m.\u001b[0m\u001b[0mfirst\u001b[0m\u001b[0;34m(\u001b[0m\u001b[0;34m)\u001b[0m\u001b[0;34m\u001b[0m\u001b[0;34m\u001b[0m\u001b[0m\n\u001b[0;32m--> 188\u001b[0;31m         \u001b[0;32massert\u001b[0m \u001b[0misinstance\u001b[0m\u001b[0;34m(\u001b[0m\u001b[0mfirst\u001b[0m\u001b[0;34m,\u001b[0m \u001b[0mLabeledPoint\u001b[0m\u001b[0;34m)\u001b[0m\u001b[0;34m,\u001b[0m \u001b[0;34m\"the data should be RDD of LabeledPoint\"\u001b[0m\u001b[0;34m\u001b[0m\u001b[0;34m\u001b[0m\u001b[0m\n\u001b[0m\u001b[1;32m    189\u001b[0m         model = callMLlibFunc(\n\u001b[1;32m    190\u001b[0m             \u001b[0;34m\"trainDecisionTreeModel\"\u001b[0m\u001b[0;34m,\u001b[0m\u001b[0;34m\u001b[0m\u001b[0;34m\u001b[0m\u001b[0m\n",
            "\u001b[0;31mAssertionError\u001b[0m: the data should be RDD of LabeledPoint"
          ]
        }
      ]
    },
    {
      "cell_type": "code",
      "source": [],
      "metadata": {
        "id": "zu2m9m1uSTA1"
      },
      "execution_count": null,
      "outputs": []
    }
  ]
}